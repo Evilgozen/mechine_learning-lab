{
 "cells": [
  {
   "cell_type": "markdown",
   "id": "bba26b3f-c2cc-4158-a6e9-7681af787758",
   "metadata": {},
   "source": [
    "### 机器学习练习4 - 神经网络 ###"
   ]
  },
  {
   "cell_type": "markdown",
   "id": "bc7ddaaf-f93b-4797-b068-e17ed652c6c5",
   "metadata": {},
   "source": [
    "目的：使用神经网络处理手写数字训练集  \n",
    "对我意义：加深对于神经网络的实现的理解和细节理解  \n",
    "实践：给代码块加上我自己的注释和总结  "
   ]
  },
  {
   "cell_type": "code",
   "execution_count": 1,
   "id": "9ca4cc21-9333-4cba-a332-d97579b5999f",
   "metadata": {},
   "outputs": [],
   "source": [
    "import numpy as np \n",
    "import pandas as pd \n",
    "import matplotlib.pyplot as plt\n",
    "from scipy.io import loadmat #scipy的库，可以用来读取matlab格式的数据"
   ]
  },
  {
   "cell_type": "code",
   "execution_count": 2,
   "id": "ddf38d55-a299-41b2-825f-d85046774789",
   "metadata": {},
   "outputs": [
    {
     "data": {
      "text/plain": [
       "{'__header__': b'MATLAB 5.0 MAT-file, Platform: GLNXA64, Created on: Sun Oct 16 13:09:09 2011',\n",
       " '__version__': '1.0',\n",
       " '__globals__': [],\n",
       " 'X': array([[0., 0., 0., ..., 0., 0., 0.],\n",
       "        [0., 0., 0., ..., 0., 0., 0.],\n",
       "        [0., 0., 0., ..., 0., 0., 0.],\n",
       "        ...,\n",
       "        [0., 0., 0., ..., 0., 0., 0.],\n",
       "        [0., 0., 0., ..., 0., 0., 0.],\n",
       "        [0., 0., 0., ..., 0., 0., 0.]]),\n",
       " 'y': array([[10],\n",
       "        [10],\n",
       "        [10],\n",
       "        ...,\n",
       "        [ 9],\n",
       "        [ 9],\n",
       "        [ 9]], dtype=uint8)}"
      ]
     },
     "execution_count": 2,
     "metadata": {},
     "output_type": "execute_result"
    }
   ],
   "source": [
    "data = loadmat('ex4data1.mat')\n",
    "data"
   ]
  },
  {
   "cell_type": "code",
   "execution_count": 3,
   "id": "8d5a4ee6-e7ed-4879-8eb9-edf513803da0",
   "metadata": {},
   "outputs": [
    {
     "data": {
      "text/plain": [
       "((5000, 400), (5000, 1))"
      ]
     },
     "execution_count": 3,
     "metadata": {},
     "output_type": "execute_result"
    }
   ],
   "source": [
    "X = data['X']\n",
    "y=data['y']\n",
    "\n",
    "X.shape,y.shape "
   ]
  },
  {
   "cell_type": "code",
   "execution_count": 22,
   "id": "60f55766-9051-4cfc-8837-421259af40e3",
   "metadata": {},
   "outputs": [
    {
     "data": {
      "image/png": "[encoded data removed]",
      "text/plain": [
       "<Figure size 640x480 with 1 Axes>"
      ]
     },
     "metadata": {},
     "output_type": "display_data"
    }
   ],
   "source": [
    "sample_index = 0\n",
    "sample = X[sample_index,:]\n",
    "\n",
    "image_sample = sample.reshape(20,20)\n",
    "\n",
    "plt.imshow(image_sample,cmap='gray')\n",
    "plt.show()"
   ]
  },
  {
   "cell_type": "markdown",
   "id": "fe04137b-9ad9-4d0a-bcfa-22a4c703e465",
   "metadata": {},
   "source": [
    "对于数据可以使用data['arrayname']形式获取"
   ]
  },
  {
   "cell_type": "markdown",
   "id": "483503bb-1bcd-4f86-9fea-7fa3f82fc506",
   "metadata": {},
   "source": [
    "对于y的数据，因为我们想要做的是多类分类，所以需要将本来的列向量变成一个二维为10的矩阵数据，这里我们采用sklearn的preprocessing库的OneHotEncoder来实现"
   ]
  },
  {
   "cell_type": "code",
   "execution_count": 4,
   "id": "f21b27c0-c458-4b33-8306-38cf28229710",
   "metadata": {},
   "outputs": [
    {
     "data": {
      "text/plain": [
       "(5000, 10)"
      ]
     },
     "execution_count": 4,
     "metadata": {},
     "output_type": "execute_result"
    }
   ],
   "source": [
    "from sklearn.preprocessing import OneHotEncoder\n",
    "encoder = OneHotEncoder()\n",
    "y_onehot = encoder.fit_transform(y).toarray()\n",
    "y_onehot.shape"
   ]
  },
  {
   "cell_type": "markdown",
   "id": "4272d21e-6cc4-4f79-80f1-bba215d4417a",
   "metadata": {},
   "source": [
    "对于这个sklearn的preprocessing库的OneHotEncoder函数\n",
    "效果：将本来的单值y映射到稀疏矩阵或者稠密矩阵里\n",
    "使用方法:生成一个类后，调用类函数生成稀疏矩阵，用函数转换为稠密矩阵"
   ]
  },
  {
   "cell_type": "code",
   "execution_count": 5,
   "id": "44be9ac9-84ea-405d-9777-25d14c6ebc4b",
   "metadata": {},
   "outputs": [
    {
     "data": {
      "text/plain": [
       "array([0., 0., 0., 0., 0., 0., 0., 0., 0., 1.])"
      ]
     },
     "execution_count": 5,
     "metadata": {},
     "output_type": "execute_result"
    }
   ],
   "source": [
    "y_onehot[0,:]"
   ]
  },
  {
   "cell_type": "markdown",
   "id": "0ddb449e-fbdb-4989-ba90-53d67ff4e0fb",
   "metadata": {},
   "source": [
    "### 2.sigmoid函数实现 ###"
   ]
  },
  {
   "cell_type": "code",
   "execution_count": 6,
   "id": "9a32e6ee-36d4-4e01-9b96-c5e3a9e1afeb",
   "metadata": {},
   "outputs": [],
   "source": [
    "def sigmoid(z):\n",
    "    return 1/(1+np.exp(-z))"
   ]
  },
  {
   "cell_type": "code",
   "execution_count": 7,
   "id": "6e24a7e8-f445-478a-b40f-477ad3dfaf18",
   "metadata": {},
   "outputs": [],
   "source": [
    "def forward_propagate(X,theta1,theta2):\n",
    "    m=X.shape[0]\n",
    "\n",
    "    a1=np.insert(X,0,values=np.ones(m),axis=1)\n",
    "    z2=a1*theta1.T\n",
    "    a2=np.insert(sigmoid(z2),0,values=np.ones(m),axis=1)\n",
    "    z3=a2*theta2.T\n",
    "    h=sigmoid(z3)\n",
    "\n",
    "    return a1,z2,a2,z3,h"
   ]
  },
  {
   "cell_type": "markdown",
   "id": "633257e5-4533-4d0b-859b-fde55af7a3b1",
   "metadata": {},
   "source": [
    "向前传播，我认为是只有两层和书上教程的图一样，$ z_2 $表示的是对于theta1的方阵乘上x的最终结果，同理经过sigmoid处理后的a值  \n",
    "经过theta2相乘得到最后一层的值再套上一层sigmoid获得结果"
   ]
  },
  {
   "cell_type": "markdown",
   "id": "6ebfbc1c-3cce-4de3-b524-72ed526ffeb3",
   "metadata": {},
   "source": [
    "#### 代价函数 ####\n",
    "\n",
    "<img style=\"float:left;\" src=\"img/nn_cost.png\">"
   ]
  },
  {
   "cell_type": "code",
   "execution_count": 8,
   "id": "f9e4f43b-5e61-429b-bcd7-d012c61e967d",
   "metadata": {},
   "outputs": [],
   "source": [
    "def cost(params,input_size,hidden_size,num_labels,X,y,learning_rate):\n",
    "    m=X.shape[0]\n",
    "    X=np.matrix(X)\n",
    "    y=np.matrix(y)\n",
    "\n",
    "    theta1 = np.matrix(np.reshape(params[:hidden_size * (input_size +1)],(hidden_size,(input_size +1))))\n",
    "    theta2 = np.matrix(np.reshape(params[hidden_size * (input_size +1):],(num_labels,(hidden_size +1))))\n",
    "\n",
    "    a1,z2,a2,z3,h = forward_propagate(X,theta1,theta2)\n",
    "\n",
    "    J=0\n",
    "    for i in range(m):\n",
    "        first_term = np.multiply(-y[i,:],np.log(h[i,:]))\n",
    "        second_term = np.multiply((1-y[i,:]),np.log(1-h[i,:]))\n",
    "        J += np.sum(first_term - second_term)\n",
    "\n",
    "    J = J / m\n",
    "\n",
    "    return J"
   ]
  },
  {
   "cell_type": "markdown",
   "id": "83821aa0-56fb-4c01-ae5b-ec0ca331be8c",
   "metadata": {},
   "source": [
    "1. 公式的复现\n",
    "2. 对于将params的操作，首先是对于神经网络需要进行参数的初始化并且初始化不能为0，然后是一维的前x个和后(n-x)个reshape"
   ]
  },
  {
   "cell_type": "code",
   "execution_count": 9,
   "id": "a368f964-4d42-4f87-9048-e2db244cfd21",
   "metadata": {},
   "outputs": [
    {
     "data": {
      "text/plain": [
       "((25, 401), (10, 26))"
      ]
     },
     "execution_count": 9,
     "metadata": {},
     "output_type": "execute_result"
    }
   ],
   "source": [
    "#初始化设置\n",
    "input_size = 400\n",
    "hidden_size = 25\n",
    "num_labels =10\n",
    "learning_rate = 1\n",
    "\n",
    "#随机初始化完成网络参数大小的参数数组(根据鱼书里面对于超参数的描述，神经网络开始theta值不能全相等为0，得随机且高斯分布)\n",
    "params = (np.random.random(size=hidden_size * (input_size +1) + num_labels * (hidden_size + 1)) -0.5) * 0.25\n",
    "\n",
    "m=X.shape[0]\n",
    "X=np.matrix(X)\n",
    "y=np.matrix(y)\n",
    "\n",
    "theta1 = np.matrix(np.reshape(params[:hidden_size * (input_size +1)],(hidden_size,(input_size +1))))\n",
    "theta2 = np.matrix(np.reshape(params[hidden_size * (input_size +1):],(num_labels,(hidden_size +1))))\n",
    "\n",
    "theta1.shape,theta2.shape"
   ]
  },
  {
   "cell_type": "code",
   "execution_count": 10,
   "id": "bd24779a-d022-412f-99e2-107cfef736b0",
   "metadata": {},
   "outputs": [
    {
     "name": "stdout",
     "output_type": "stream",
     "text": [
      "(5000, 400)\n"
     ]
    },
    {
     "data": {
      "text/plain": [
       "6.9716187935787906"
      ]
     },
     "execution_count": 10,
     "metadata": {},
     "output_type": "execute_result"
    }
   ],
   "source": [
    "print(X.shape)\n",
    "cost(params,input_size,hidden_size,num_labels,X,y_onehot,learning_rate)"
   ]
  },
  {
   "cell_type": "markdown",
   "id": "28b9d04c-b0f4-443a-aba3-389fdf2301db",
   "metadata": {},
   "source": [
    "这一段的bug还是挺多的，总结一下错误\n",
    "1. 对于thete2前面的*不小心写成了.\n",
    "2. 对于theta1的后面的theta2更新写成了1导致1的shape不对"
   ]
  },
  {
   "cell_type": "markdown",
   "id": "dd59921b-f93a-461d-8aef-bd048da6a6db",
   "metadata": {},
   "source": [
    "### 3.正则化代价函数"
   ]
  },
  {
   "cell_type": "markdown",
   "id": "474949cf-a642-48c7-81b9-86f98baf0a26",
   "metadata": {},
   "source": [
    "对于前面的没有正则化的代价函数，现在需要添加一点类似于逻辑回归或者是线性回归的正则化项来降低高阶的影响防止过拟合"
   ]
  },
  {
   "cell_type": "code",
   "execution_count": 11,
   "id": "2c604801-0df5-4518-9ecf-ebb02d9d2946",
   "metadata": {},
   "outputs": [],
   "source": [
    "def cost(params,input_size,hidden_size,num_labels,X,y,learning_rate):\n",
    "    m=X.shape[0]\n",
    "    X=np.matrix(X)\n",
    "    y=np.matrix(y)\n",
    "\n",
    "    theta1 = np.matrix(np.reshape(params[:hidden_size * (input_size +1)],(hidden_size,(input_size +1))))\n",
    "    theta2 = np.matrix(np.reshape(params[hidden_size * (input_size +1):],(num_labels,(hidden_size +1))))\n",
    "\n",
    "    a1,z2,a2,z3,h = forward_propagate(X,theta1,theta2)\n",
    "\n",
    "    J=0\n",
    "    for i in range(m):\n",
    "        first_term = np.multiply(-y[i,:],np.log(h[i,:]))\n",
    "        second_term = np.multiply((1-y[i,:]),np.log(1-h[i,:]))\n",
    "        J += np.sum(first_term - second_term)\n",
    "\n",
    "    J = J / m\n",
    "\n",
    "    #变更的地方，添加了一些正则项来防止过拟合\n",
    "    J += (float(learning_rate) / (2*m)) * (np.sum(np.power(theta1[:,1:],2)) + np.sum(np.power(theta2[:,1:],2)))\n",
    "\n",
    "    return J"
   ]
  },
  {
   "cell_type": "markdown",
   "id": "213302b6-a5ee-440d-ba3a-8bbd6e5790f7",
   "metadata": {},
   "source": [
    "类似于线性回归和逻辑回归，剔除第0项的theta后进行的累加和的平方"
   ]
  },
  {
   "cell_type": "code",
   "execution_count": 12,
   "id": "603800d1-7283-49b8-9e30-6f50cea33416",
   "metadata": {},
   "outputs": [
    {
     "data": {
      "text/plain": [
       "6.976938419293765"
      ]
     },
     "execution_count": 12,
     "metadata": {},
     "output_type": "execute_result"
    }
   ],
   "source": [
    "cost(params,input_size,hidden_size,num_labels,X,y_onehot,learning_rate)"
   ]
  },
  {
   "cell_type": "code",
   "execution_count": 13,
   "id": "e227a979-5444-459a-a97c-fe112ff72dd5",
   "metadata": {},
   "outputs": [],
   "source": [
    "def sigmoid_gradient(z):\n",
    "    return np.multiply(sigmoid(z),(1-sigmoid(z)))"
   ]
  },
  {
   "cell_type": "code",
   "execution_count": 14,
   "id": "41af66bc-f8bc-4ab3-88fd-4048b59eb0ae",
   "metadata": {},
   "outputs": [],
   "source": [
    "def backprop(params,input_size,hidden_size,num_labels,X,y,learning_rate):\n",
    "    m=X.shape[0]\n",
    "    X=np.matrix(X)\n",
    "    y=np.matrix(y)\n",
    "\n",
    "    theta1 = np.matrix(np.reshape(params[:hidden_size * (input_size +1)],(hidden_size,(input_size +1))))\n",
    "    theta2 = np.matrix(np.reshape(params[hidden_size * (input_size +1):],(num_labels,(hidden_size +1))))\n",
    "\n",
    "    a1,z2,a2,z3,h = forward_propagate(X,theta1,theta2)\n",
    "\n",
    "    J=0\n",
    "    delta1 = np.zeros(theta1.shape)  # (25, 401)\n",
    "    delta2 = np.zeros(theta2.shape)  # (10, 26)\n",
    "    \n",
    "    for i in range(m):\n",
    "        first_term = np.multiply(-y[i,:],np.log(h[i,:]))\n",
    "        second_term = np.multiply((1-y[i,:]),np.log(1-h[i,:]))\n",
    "        J += np.sum(first_term - second_term)\n",
    "\n",
    "    J = J / m\n",
    "\n",
    "    #变更的地方，添加了一些正则项来防止过拟合\n",
    "    J += (float(learning_rate) / (2*m)) * (np.sum(np.power(theta1[:,1:],2)) + np.sum(np.power(theta2[:,1:],2)))\n",
    "\n",
    "    #反向传播添加的内容\n",
    "    for t in range(m):\n",
    "        #对所有数据进行切片来计算传播\n",
    "        a1t=a1[t,:]\n",
    "        z2t=z2[t,:]\n",
    "        a2t=a2[t,:]\n",
    "        ht=h[t,:]\n",
    "        yt=y[t,:]\n",
    "\n",
    "        #损失计算\n",
    "        d3t = ht-yt\n",
    "\n",
    "        #对齐theta的维度然后后面再除去\n",
    "        z2t = np.insert(z2t,0,values=np.ones(1))\n",
    "        d2t = np.multiply((theta2.T * d3t.T).T,sigmoid_gradient(z2t)) #链式法则加上乘法法则公式\n",
    "\n",
    "        delta1 = delta1 + (d2t[:,1:]).T * a1t #代价函数由后向前传递\n",
    "        delta2 = delta2 + d3t.T * a2t \n",
    "\n",
    "    delta1 = delta1 / m\n",
    "    delta2 = delta2 / m\n",
    "\n",
    "    grad = np.concatenate((np.ravel(delta1),np.ravel(delta2)))\n",
    "\n",
    "    return J,grad"
   ]
  },
  {
   "cell_type": "code",
   "execution_count": 15,
   "id": "485d708b-5431-4d49-9ce8-f1778101ff2d",
   "metadata": {},
   "outputs": [
    {
     "data": {
      "text/plain": [
       "(6.976938419293765, (10285,))"
      ]
     },
     "execution_count": 15,
     "metadata": {},
     "output_type": "execute_result"
    }
   ],
   "source": [
    "J, grad = backprop(params, input_size, hidden_size, num_labels, X, y_onehot, learning_rate)\n",
    "J, grad.shape"
   ]
  },
  {
   "cell_type": "markdown",
   "id": "464c997f-1159-4974-89f3-9577ae241a3d",
   "metadata": {},
   "source": [
    "对于上面的反向传播添加正则项"
   ]
  },
  {
   "cell_type": "code",
   "execution_count": 16,
   "id": "13485646-e4d3-4e6c-a34d-f0e2eed193c4",
   "metadata": {},
   "outputs": [],
   "source": [
    "def backprop(params,input_size,hidden_size,num_labels,X,y,learning_rate):\n",
    "    m=X.shape[0]\n",
    "    X=np.matrix(X)\n",
    "    y=np.matrix(y)\n",
    "\n",
    "    theta1 = np.matrix(np.reshape(params[:hidden_size * (input_size +1)],(hidden_size,(input_size +1))))\n",
    "    theta2 = np.matrix(np.reshape(params[hidden_size * (input_size +1):],(num_labels,(hidden_size +1))))\n",
    "\n",
    "    a1,z2,a2,z3,h = forward_propagate(X,theta1,theta2)\n",
    "\n",
    "    J=0\n",
    "    delta1 = np.zeros(theta1.shape)  # (25, 401)\n",
    "    delta2 = np.zeros(theta2.shape)  # (10, 26)\n",
    "    \n",
    "    for i in range(m):\n",
    "        first_term = np.multiply(-y[i,:],np.log(h[i,:]))\n",
    "        second_term = np.multiply((1-y[i,:]),np.log(1-h[i,:]))\n",
    "        J += np.sum(first_term - second_term)\n",
    "\n",
    "    J = J / m\n",
    "\n",
    "    #变更的地方，添加了一些正则项来防止过拟合\n",
    "    J += (float(learning_rate) / (2*m)) * (np.sum(np.power(theta1[:,1:],2)) + np.sum(np.power(theta2[:,1:],2)))\n",
    "\n",
    "    #反向传播添加的内容\n",
    "    for t in range(m):\n",
    "        #对所有数据进行切片来计算传播\n",
    "        a1t=a1[t,:]\n",
    "        z2t=z2[t,:]\n",
    "        a2t=a2[t,:]\n",
    "        ht=h[t,:]\n",
    "        yt=y[t,:]\n",
    "\n",
    "        #损失计算\n",
    "        d3t = ht-yt\n",
    "\n",
    "        #\n",
    "        z2t = np.insert(z2t,0,values=np.ones(1))\n",
    "        d2t = np.multiply((theta2.T * d3t.T).T,sigmoid_gradient(z2t))\n",
    "\n",
    "        delta1 = delta1 + (d2t[:,1:]).T * a1t\n",
    "        delta2 = delta2 + d3t.T * a2t\n",
    "\n",
    "    delta1 = delta1 / m\n",
    "    delta2 = delta2 / m\n",
    "\n",
    "    delta1[:,1:] = delta1[:,1:] + (theta1[:,1:] * learning_rate) / m\n",
    "    delta2[:,1:] = delta2[:,1:] + (theta2[:,1:] * learning_rate) / m\n",
    "\n",
    "    grad = np.concatenate((np.ravel(delta1),np.ravel(delta2)))\n",
    "\n",
    "    return J,grad"
   ]
  },
  {
   "cell_type": "code",
   "execution_count": 17,
   "id": "4bd60f32-7d75-4166-a105-f6b28b2bd166",
   "metadata": {},
   "outputs": [
    {
     "data": {
      "text/plain": [
       "(6.976938419293765, (10285,))"
      ]
     },
     "execution_count": 17,
     "metadata": {},
     "output_type": "execute_result"
    }
   ],
   "source": [
    "J, grad = backprop(params, input_size, hidden_size, num_labels, X, y_onehot, learning_rate)\n",
    "J, grad.shape"
   ]
  },
  {
   "cell_type": "code",
   "execution_count": 18,
   "id": "e458e0db-72b4-4005-928e-fbd2b2d87326",
   "metadata": {},
   "outputs": [
    {
     "data": {
      "text/plain": [
       "  message: STOP: TOTAL NO. of ITERATIONS REACHED LIMIT\n",
       "  success: False\n",
       "   status: 1\n",
       "      fun: 0.30983280611430164\n",
       "        x: [-1.124e+00 -2.466e-04 ... -3.467e+00 -2.958e+00]\n",
       "      nit: 250\n",
       "      jac: [ 1.863e-05 -4.932e-08 ...  3.009e-05 -1.866e-06]\n",
       "     nfev: 259\n",
       "     njev: 259\n",
       " hess_inv: <10285x10285 LbfgsInvHessProduct with dtype=float64>"
      ]
     },
     "execution_count": 18,
     "metadata": {},
     "output_type": "execute_result"
    }
   ],
   "source": [
    "from scipy.optimize import minimize\n",
    "\n",
    "# minimize the objective function\n",
    "fmin = minimize(fun=backprop, x0=params, args=(input_size, hidden_size, num_labels, X, y_onehot, learning_rate), \n",
    "                method='L-BFGS-B', jac=True, options={'maxiter': 250,'disp': True})\n",
    "fmin"
   ]
  },
  {
   "cell_type": "code",
   "execution_count": 19,
   "id": "434cd7e6-8e97-4ee0-9348-107e151e2ea0",
   "metadata": {},
   "outputs": [
    {
     "data": {
      "text/plain": [
       "array([[10],\n",
       "       [10],\n",
       "       [10],\n",
       "       ...,\n",
       "       [ 9],\n",
       "       [ 9],\n",
       "       [ 9]], dtype=int64)"
      ]
     },
     "execution_count": 19,
     "metadata": {},
     "output_type": "execute_result"
    }
   ],
   "source": [
    "X = np.matrix(X)\n",
    "theta1 = np.matrix(np.reshape(fmin.x[:hidden_size * (input_size + 1)], (hidden_size, (input_size + 1))))\n",
    "theta2 = np.matrix(np.reshape(fmin.x[hidden_size * (input_size + 1):], (num_labels, (hidden_size + 1))))\n",
    "\n",
    "a1, z2, a2, z3, h = forward_propagate(X, theta1, theta2)\n",
    "y_pred = np.array(np.argmax(h, axis=1) + 1)\n",
    "y_pred"
   ]
  },
  {
   "cell_type": "code",
   "execution_count": 20,
   "id": "c7aec88f-dc70-4dca-9f54-8b8491c45c7d",
   "metadata": {},
   "outputs": [
    {
     "data": {
      "text/plain": [
       "array([[10],\n",
       "       [10],\n",
       "       [10],\n",
       "       ...,\n",
       "       [ 9],\n",
       "       [ 9],\n",
       "       [ 9]], dtype=int64)"
      ]
     },
     "execution_count": 20,
     "metadata": {},
     "output_type": "execute_result"
    }
   ],
   "source": [
    "X = np.matrix(X)\n",
    "theta1 = np.matrix(np.reshape(fmin.x[:hidden_size * (input_size + 1)], (hidden_size, (input_size + 1))))\n",
    "theta2 = np.matrix(np.reshape(fmin.x[hidden_size * (input_size + 1):], (num_labels, (hidden_size + 1))))\n",
    "\n",
    "a1, z2, a2, z3, h = forward_propagate(X, theta1, theta2)\n",
    "y_pred = np.array(np.argmax(h, axis=1) + 1)\n",
    "y_pred"
   ]
  },
  {
   "cell_type": "code",
   "execution_count": 21,
   "id": "fc99b61c-ef96-4083-b5e7-234b4bd536f5",
   "metadata": {},
   "outputs": [
    {
     "name": "stdout",
     "output_type": "stream",
     "text": [
      "accuracy = 99.64%\n"
     ]
    }
   ],
   "source": [
    "correct = [1 if a == b else 0 for (a, b) in zip(y_pred, y)]\n",
    "accuracy = (sum(map(int, correct)) / float(len(correct)))\n",
    "print ('accuracy = {0}%'.format(accuracy * 100))"
   ]
  },
  {
   "cell_type": "code",
   "execution_count": 28,
   "id": "70bc38c6-58f8-4abc-81a6-3edf5dcea9d2",
   "metadata": {},
   "outputs": [
    {
     "data": {
      "image/png": "[encoded data removed]",
      "text/plain": [
       "<Figure size 640x480 with 1 Axes>"
      ]
     },
     "metadata": {},
     "output_type": "display_data"
    }
   ],
   "source": [
    "sample_index = 2004\n",
    "sample = X[sample_index,:]\n",
    "\n",
    "image_sample = sample.reshape(20,20)\n",
    "y_pred_sample = y_pred[sample_index]\n",
    "\n",
    "plt.imshow(image_sample,cmap='gray')\n",
    "plt.title(f\"this num is{y_pred_sample}\")\n",
    "plt.show()"
   ]
  },
  {
   "cell_type": "markdown",
   "id": "6ba3e13a-9379-4f34-b140-a236698641b9",
   "metadata": {},
   "source": [
    "好玩"
   ]
  },
  {
   "cell_type": "code",
   "execution_count": null,
   "id": "47b4dced-5c8e-467c-98ba-fa95b1a9a22d",
   "metadata": {},
   "outputs": [],
   "source": []
  }
 ],
 "metadata": {
  "kernelspec": {
   "display_name": "Python 3 (ipykernel)",
   "language": "python",
   "name": "python3"
  },
  "language_info": {
   "codemirror_mode": {
    "name": "ipython",
    "version": 3
   },
   "file_extension": ".py",
   "mimetype": "text/x-python",
   "name": "python",
   "nbconvert_exporter": "python",
   "pygments_lexer": "ipython3",
   "version": "3.12.7"
  }
 },
 "nbformat": 4,
 "nbformat_minor": 5
}
