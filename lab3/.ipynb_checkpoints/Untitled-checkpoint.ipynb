{
 "cells": [
  {
   "cell_type": "markdown",
   "id": "c61bc9cd-a850-4f96-aa1d-6af37cb9a6a1",
   "metadata": {},
   "source": [
    "## lab3 - 逻辑回归及神经网络的多类分类 ##"
   ]
  },
  {
   "cell_type": "markdown",
   "id": "471b799f-5843-4504-94b5-5a6a3a4f8b2e",
   "metadata": {},
   "source": [
    "要做的：完成逻辑回归识别10类的手写数字。"
   ]
  },
  {
   "cell_type": "code",
   "execution_count": 41,
   "id": "b7f6d8e7-dc93-4d08-99f1-846282acaf13",
   "metadata": {},
   "outputs": [],
   "source": [
    "import numpy as np\n",
    "import pandas as pd\n",
    "import matplotlib as plt\n",
    "from scipy.io import loadmat"
   ]
  },
  {
   "cell_type": "markdown",
   "id": "ea1a0fd5-fc11-4094-aaa8-2efb927413de",
   "metadata": {},
   "source": [
    "1. 读取数据"
   ]
  },
  {
   "cell_type": "code",
   "execution_count": 42,
   "id": "e9674da0-8189-477b-abd1-b8c90a8ed917",
   "metadata": {},
   "outputs": [
    {
     "data": {
      "text/plain": [
       "{'__header__': b'MATLAB 5.0 MAT-file, Platform: GLNXA64, Created on: Sun Oct 16 13:09:09 2011',\n",
       " '__version__': '1.0',\n",
       " '__globals__': [],\n",
       " 'X': array([[0., 0., 0., ..., 0., 0., 0.],\n",
       "        [0., 0., 0., ..., 0., 0., 0.],\n",
       "        [0., 0., 0., ..., 0., 0., 0.],\n",
       "        ...,\n",
       "        [0., 0., 0., ..., 0., 0., 0.],\n",
       "        [0., 0., 0., ..., 0., 0., 0.],\n",
       "        [0., 0., 0., ..., 0., 0., 0.]]),\n",
       " 'y': array([[10],\n",
       "        [10],\n",
       "        [10],\n",
       "        ...,\n",
       "        [ 9],\n",
       "        [ 9],\n",
       "        [ 9]], dtype=uint8)}"
      ]
     },
     "execution_count": 42,
     "metadata": {},
     "output_type": "execute_result"
    }
   ],
   "source": [
    "data = loadmat('ex3data1.mat')\n",
    "data"
   ]
  },
  {
   "cell_type": "code",
   "execution_count": 43,
   "id": "ada27388-cf16-4de0-9f01-390ac8e7c011",
   "metadata": {},
   "outputs": [
    {
     "data": {
      "text/plain": [
       "((5000, 400), (5000, 1))"
      ]
     },
     "execution_count": 43,
     "metadata": {},
     "output_type": "execute_result"
    }
   ],
   "source": [
    "data['X'].shape,data['y'].shape"
   ]
  },
  {
   "cell_type": "markdown",
   "id": "ab9f938b-70be-48db-8d5e-35363a8d63cb",
   "metadata": {},
   "source": [
    "和python深度学习差不多，现在是对于5000个图像的20*20的数据集"
   ]
  },
  {
   "cell_type": "markdown",
   "id": "1224a6bd-2772-4fef-b014-8c45bb44b905",
   "metadata": {},
   "source": [
    "2. 对于逻辑回归的sigmoid实现和预估函数的实现"
   ]
  },
  {
   "cell_type": "code",
   "execution_count": 49,
   "id": "087cfb63-1237-4673-994a-c8f4983f6847",
   "metadata": {},
   "outputs": [],
   "source": [
    "def sigmoid(z):\n",
    "    return 1/(1+np.exp(-z))"
   ]
  },
  {
   "cell_type": "code",
   "execution_count": 50,
   "id": "52f35f74-085e-4759-b583-e11ad72bf7f3",
   "metadata": {},
   "outputs": [],
   "source": [
    "def cost(theta,X,y,learningRate):\n",
    "    theta=np.matrix(theta)\n",
    "    X=np.matrix(X)\n",
    "    y=np.matrix(y)\n",
    "\n",
    "    first=np.multiply(-y,np.log(sigmoid(X*theta.T)))\n",
    "    second=np.multiply((1-y),np.log((1-sigmoid(X*theta.T))))\n",
    "    reg=(learningRate / (2*len(X))) * np.sum(np.power(theta[:,1:],2))\n",
    "    return np.sum(first - second) /len(X) + reg"
   ]
  },
  {
   "cell_type": "markdown",
   "id": "a0a87a48-415b-4518-a107-d0e0a2220873",
   "metadata": {},
   "source": [
    "手写实现对于步进梯度下降函数  \n",
    "对于公式而言，$ thete_0 $和线性回归一样，但是对于后面的相较于线性回归还需要添加正则的学习率和theta修正"
   ]
  },
  {
   "cell_type": "code",
   "execution_count": 51,
   "id": "4e6e4425-ef5b-4415-9913-26beb147db01",
   "metadata": {},
   "outputs": [],
   "source": [
    "def gradient_with_loop(theta,X,y,learningRate):\n",
    "    theta=np.matrix(theta)\n",
    "    X=np.matrix(X)\n",
    "    y=np.matrix(y)\n",
    "\n",
    "    paramaters=int(theta.ravel().shape[1]) #对于theta显然一维表示的是单位个数，二维表示了一次计算的theta数量\n",
    "    grad = np.zeros(paramaters)\n",
    "\n",
    "    error = sigmoid(X*theta.T) - y\n",
    "\n",
    "    for i in range(paramaters):\n",
    "        term = np.multiply(error,X[:,i])\n",
    "\n",
    "        if(i==0):\n",
    "            grad[i] = np.sum(term) / len(X)\n",
    "        else:\n",
    "            grad[i] = np.sum(term) / len(X) + ((learningRate / len(X)) * theta[:,1])\n",
    "\n",
    "    return grad"
   ]
  },
  {
   "cell_type": "markdown",
   "id": "cfeaa1fa-723b-4e53-857e-73a384f32b7e",
   "metadata": {},
   "source": [
    "向量化的梯度参数，就是对于上面的loop实现的梯度函数采用矩阵运算的优化方式得到的梯度下降优化版本"
   ]
  },
  {
   "cell_type": "code",
   "execution_count": 52,
   "id": "d2a5067e-3612-42ea-a231-5f71d6b2eb38",
   "metadata": {},
   "outputs": [],
   "source": [
    "def gradient(theta,X,y,learningRate):\n",
    "    theta = np.matrix(theta)\n",
    "    X=np.matrix(X)\n",
    "    y=np.matrix(y)\n",
    "\n",
    "    paramaters = int(theta.ravel().shape[1])\n",
    "    error = sigmoid(X*theta.T)-y\n",
    "\n",
    "    grad = ((X.T * error) /len(X)).T + ((learningRate / len(X)) *theta)\n",
    "\n",
    "    grad[0,0] = np.sum(np.multiply(error,X[:,0])) / len(X)\n",
    "\n",
    "    return np.array(grad).ravel()"
   ]
  },
  {
   "cell_type": "markdown",
   "id": "c68028b0-e5e9-4c72-8f7c-5dfe2c507db7",
   "metadata": {},
   "source": [
    "对于逻辑回归来说，多分类任务，需要将任务拆解成多个两类分类任务然后loop出概率最高的类别，这需要我实现一个分类器"
   ]
  },
  {
   "cell_type": "code",
   "execution_count": 53,
   "id": "f0dd85f0-718c-49fb-9256-9b9387f652d8",
   "metadata": {},
   "outputs": [],
   "source": [
    "from scipy.optimize import minimize\n",
    "\n",
    "def one_vs_all(X,y,num_labels,learningRate):\n",
    "    row = X.shape[0]\n",
    "    params = X.shape[1]\n",
    "\n",
    "    all_theta = np.zeros((num_labels,params+1))\n",
    "\n",
    "    X=np.insert(X,0,values=np.ones(row),axis=1)\n",
    "\n",
    "    for i in range(1,num_labels +1): #因为对于range是左闭右开的所以要+1\n",
    "        theta = np.zeros(params +1)\n",
    "        y_i = np.array([1 if label == i else 0 for label in y])\n",
    "        y_i = np.reshape(y_i,(rows,1)) #转matrix\n",
    "\n",
    "        fmin = minimize(fun=cost,x0=theta,args=(X,y_i,learningRate),method='TNC',jac=gradient)\n",
    "        all_theta[i-1,:]=fmin.x\n",
    "\n",
    "    return all_theta\n",
    "        "
   ]
  },
  {
   "cell_type": "markdown",
   "id": "12820d3d-dce8-41c5-9c60-d099394cee46",
   "metadata": {},
   "source": [
    "对于上述公式的解释:\n",
    "1. 首先我的目的是对于分类的n个类都每次单独实现一次两类区分，然后这一类获得一个特定的训练的theta\n",
    "2. 对于我的X我需要进行一次修正来添加一列$ X_0 $=1\n",
    "3. 对于y采取了将本来的num更改为对应类型的布尔矩阵方式\n",
    "4. 对于上述的矩阵的维度和操作我并没有做到完全手写，还是主要是参考来理解大体方向，毕竟我是刚入门。"
   ]
  },
  {
   "cell_type": "markdown",
   "id": "777f56f2-ae73-425c-a81c-71289b2cb4ce",
   "metadata": {},
   "source": [
    "修正我的X,y和theta的三个矩阵"
   ]
  },
  {
   "cell_type": "code",
   "execution_count": 54,
   "id": "c941ef23-41da-4349-a213-0ecda71bb76b",
   "metadata": {},
   "outputs": [
    {
     "data": {
      "text/plain": [
       "((5000, 401), (5000, 1), (401,), (10, 401))"
      ]
     },
     "execution_count": 54,
     "metadata": {},
     "output_type": "execute_result"
    }
   ],
   "source": [
    "rows = data['X'].shape[0]\n",
    "params = data['X'].shape[1]\n",
    "\n",
    "all_theta = np.zeros((10,params +1))\n",
    "\n",
    "X=np.insert(data['X'],0,values=np.ones(rows),axis=1)\n",
    "\n",
    "theta = np.zeros(params +1 )\n",
    "y_0 = np.array([1 if label == 0 else 0 for label in data['y']])\n",
    "y_0 = np.reshape(y_0,(rows,1))\n",
    "\n",
    "X.shape,y_0.shape,theta.shape,all_theta.shape"
   ]
  },
  {
   "cell_type": "markdown",
   "id": "45024272-8134-423d-843d-52d41ba0eae3",
   "metadata": {},
   "source": [
    "获取所有theta"
   ]
  },
  {
   "cell_type": "code",
   "execution_count": 55,
   "id": "1676ab0d-befe-4818-a3e4-5be21363b061",
   "metadata": {},
   "outputs": [
    {
     "data": {
      "text/plain": [
       "array([[-2.38324538e+00,  0.00000000e+00,  0.00000000e+00, ...,\n",
       "         1.30434369e-03, -7.33960767e-10,  0.00000000e+00],\n",
       "       [-3.18195955e+00,  0.00000000e+00,  0.00000000e+00, ...,\n",
       "         4.46089877e-03, -5.08573713e-04,  0.00000000e+00],\n",
       "       [-4.79683983e+00,  0.00000000e+00,  0.00000000e+00, ...,\n",
       "        -2.87302217e-05, -2.47809169e-07,  0.00000000e+00],\n",
       "       ...,\n",
       "       [-7.98799955e+00,  0.00000000e+00,  0.00000000e+00, ...,\n",
       "        -8.93510869e-05,  7.20587665e-06,  0.00000000e+00],\n",
       "       [-4.57032567e+00,  0.00000000e+00,  0.00000000e+00, ...,\n",
       "        -1.33788603e-03,  1.00049474e-04,  0.00000000e+00],\n",
       "       [-5.40434914e+00,  0.00000000e+00,  0.00000000e+00, ...,\n",
       "        -1.16338647e-04,  7.85996786e-06,  0.00000000e+00]])"
      ]
     },
     "execution_count": 55,
     "metadata": {},
     "output_type": "execute_result"
    }
   ],
   "source": [
    "all_theta = one_vs_all(data['X'],data['y'],10,1)\n",
    "all_theta"
   ]
  },
  {
   "cell_type": "markdown",
   "id": "a92bb9e7-d09b-4b77-ac19-4266806dfc49",
   "metadata": {},
   "source": [
    "现在的目标是对于我已经训练出来的all_theta在训练集上再跑一遍，对于分类问题，我们可以采用正确率来进行exp的数值分析和相关可视化"
   ]
  },
  {
   "cell_type": "code",
   "execution_count": 60,
   "id": "95de580f-c583-4af7-8a64-a0ba352bdbed",
   "metadata": {},
   "outputs": [],
   "source": [
    "def predict_all(X,all_theta):\n",
    "    rows = X.shape[0]\n",
    "    params = X.shape[1]\n",
    "    num_labels = all_theta.shape[0]\n",
    "\n",
    "    x = np.insert(X,0,values = np.ones(rows),axis=1)\n",
    "\n",
    "    X=np.matrix(X)\n",
    "    all_theta = np.matrix(all_theta)\n",
    "\n",
    "    prediction = sigmoid(X*all_theta.T)\n",
    "\n",
    "    prediction_argmax = np.argmax(prediction,axis=1)\n",
    "\n",
    "    prediction_argmax = prediction_argmax + 1\n",
    "\n",
    "    return prediction_argmax"
   ]
  },
  {
   "cell_type": "markdown",
   "id": "d4dbe104-4268-494e-92b6-64a186c96213",
   "metadata": {},
   "source": [
    "对于prediction运用来计算我们的正确率"
   ]
  },
  {
   "cell_type": "code",
   "execution_count": 63,
   "id": "7372259b-51dc-4ba3-9e2d-fc02519b312a",
   "metadata": {},
   "outputs": [
    {
     "name": "stdout",
     "output_type": "stream",
     "text": [
      "accuracy = 94.46%\n"
     ]
    }
   ],
   "source": [
    "y_pred=predict_all(X,all_theta)\n",
    "correct = [1 if a==b else 0 for (a,b) in zip(y_pred,data['y'])] #不太清楚这个api\n",
    "accuracy = (sum(map(int,correct)) / float(len(correct)))\n",
    "print('accuracy = {0}%'.format(accuracy * 100))"
   ]
  },
  {
   "cell_type": "markdown",
   "id": "2e13088d-07ee-4de4-9b31-9b0619079876",
   "metadata": {},
   "source": [
    "over"
   ]
  },
  {
   "cell_type": "code",
   "execution_count": null,
   "id": "fc899331-d026-4fc7-8235-ab5a27c92ef0",
   "metadata": {},
   "outputs": [],
   "source": []
  }
 ],
 "metadata": {
  "kernelspec": {
   "display_name": "Python 3 (ipykernel)",
   "language": "python",
   "name": "python3"
  },
  "language_info": {
   "codemirror_mode": {
    "name": "ipython",
    "version": 3
   },
   "file_extension": ".py",
   "mimetype": "text/x-python",
   "name": "python",
   "nbconvert_exporter": "python",
   "pygments_lexer": "ipython3",
   "version": "3.12.7"
  }
 },
 "nbformat": 4,
 "nbformat_minor": 5
}
